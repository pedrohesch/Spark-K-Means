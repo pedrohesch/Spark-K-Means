{
 "cells": [
  {
   "cell_type": "markdown",
   "metadata": {},
   "source": [
    "### <font color='blue'>Spark MLLib - Clustering - K-Means</font>"
   ]
  },
  {
   "cell_type": "code",
   "execution_count": 1,
   "metadata": {},
   "outputs": [],
   "source": [
    "spSession = SparkSession.builder.master(\"local\").appName(\"SparkMLLib\").config(\"spark.some.config.option\", \"session\").getOrCreate()"
   ]
  },
  {
   "cell_type": "code",
   "execution_count": 2,
   "metadata": {},
   "outputs": [],
   "source": [
    "import math\n",
    "from pyspark.sql import Row\n",
    "from pyspark.ml.linalg import Vectors\n",
    "from pyspark.ml.clustering import KMeans\n",
    "import pandas as pd\n",
    "import matplotlib.pylab as plt\n",
    "%matplotlib inline"
   ]
  },
  {
   "cell_type": "code",
   "execution_count": 3,
   "metadata": {},
   "outputs": [
    {
     "data": {
      "text/plain": [
       "198"
      ]
     },
     "execution_count": 3,
     "metadata": {},
     "output_type": "execute_result"
    }
   ],
   "source": [
    "# Loading the data and generating a RDD\n",
    "carrosRDD = sc.textFile(\"carros2.csv\")\n",
    "carrosRDD.cache()\n",
    "carrosRDD.count()"
   ]
  },
  {
   "cell_type": "code",
   "execution_count": 4,
   "metadata": {},
   "outputs": [
    {
     "data": {
      "text/plain": [
       "197"
      ]
     },
     "execution_count": 4,
     "metadata": {},
     "output_type": "execute_result"
    }
   ],
   "source": [
    "# Removing the first line of the file (header)\n",
    "primeiraLinha = carrosRDD.first()\n",
    "carrosRDD2 = carrosRDD.filter(lambda x: x != primeiraLinha)\n",
    "carrosRDD2.count()"
   ]
  },
  {
   "cell_type": "code",
   "execution_count": 5,
   "metadata": {},
   "outputs": [
    {
     "data": {
      "text/plain": [
       "['subaru,gas,std,two,hatchback,fwd,four,69,4900,31,36,5118',\n",
       " 'chevrolet,gas,std,two,hatchback,fwd,three,48,5100,47,53,5151',\n",
       " 'mazda,gas,std,two,hatchback,fwd,four,68,5000,30,31,5195',\n",
       " 'toyota,gas,std,two,hatchback,fwd,four,62,4800,35,39,5348',\n",
       " 'mitsubishi,gas,std,two,hatchback,fwd,four,68,5500,37,41,5389']"
      ]
     },
     "execution_count": 5,
     "metadata": {},
     "output_type": "execute_result"
    }
   ],
   "source": [
    "carrosRDD2.take(5)"
   ]
  },
  {
   "cell_type": "code",
   "execution_count": 6,
   "metadata": {},
   "outputs": [],
   "source": [
    "# Converting and cleaning the data\n",
    "def transformToNumeric( inputStr) :\n",
    "    attList = inputStr.split(\",\")\n",
    "\n",
    "    doors = 1.0 if attList[3] == \"two\" else 2.0\n",
    "    body = 1.0 if attList[4] == \"sedan\" else 2.0 \n",
    "       \n",
    "    linhas = Row(DOORS = doors, BODY = float(body), HP = float(attList[7]), RPM = float(attList[8]),\n",
    "                 MPG = float(attList[9]))\n",
    "    return linhas"
   ]
  },
  {
   "cell_type": "code",
   "execution_count": 7,
   "metadata": {},
   "outputs": [
    {
     "data": {
      "text/plain": [
       "[Row(BODY=2.0, DOORS=1.0, HP=69.0, MPG=31.0, RPM=4900.0),\n",
       " Row(BODY=2.0, DOORS=1.0, HP=48.0, MPG=47.0, RPM=5100.0),\n",
       " Row(BODY=2.0, DOORS=1.0, HP=68.0, MPG=30.0, RPM=5000.0),\n",
       " Row(BODY=2.0, DOORS=1.0, HP=62.0, MPG=35.0, RPM=4800.0),\n",
       " Row(BODY=2.0, DOORS=1.0, HP=68.0, MPG=37.0, RPM=5500.0)]"
      ]
     },
     "execution_count": 7,
     "metadata": {},
     "output_type": "execute_result"
    }
   ],
   "source": [
    "# Applying the function \n",
    "carrosRDD3 = carrosRDD2.map(transformToNumeric)\n",
    "carrosRDD3.persist()\n",
    "carrosRDD3.take(5)"
   ]
  },
  {
   "cell_type": "code",
   "execution_count": 8,
   "metadata": {},
   "outputs": [
    {
     "name": "stdout",
     "output_type": "stream",
     "text": [
      "+----+-----+----+----+------+\n",
      "|BODY|DOORS|  HP| MPG|   RPM|\n",
      "+----+-----+----+----+------+\n",
      "| 2.0|  1.0|69.0|31.0|4900.0|\n",
      "| 2.0|  1.0|48.0|47.0|5100.0|\n",
      "| 2.0|  1.0|68.0|30.0|5000.0|\n",
      "| 2.0|  1.0|62.0|35.0|4800.0|\n",
      "| 2.0|  1.0|68.0|37.0|5500.0|\n",
      "| 2.0|  1.0|60.0|38.0|5500.0|\n",
      "| 1.0|  1.0|69.0|31.0|5200.0|\n",
      "| 2.0|  1.0|68.0|37.0|5500.0|\n",
      "| 2.0|  1.0|68.0|37.0|5500.0|\n",
      "| 2.0|  1.0|68.0|31.0|5000.0|\n",
      "| 2.0|  1.0|68.0|31.0|5500.0|\n",
      "| 2.0|  2.0|68.0|31.0|5500.0|\n",
      "| 2.0|  2.0|68.0|31.0|5500.0|\n",
      "| 2.0|  1.0|70.0|38.0|5400.0|\n",
      "| 2.0|  1.0|62.0|31.0|4800.0|\n",
      "| 2.0|  1.0|68.0|31.0|5500.0|\n",
      "| 2.0|  1.0|58.0|49.0|4800.0|\n",
      "| 2.0|  2.0|62.0|31.0|4800.0|\n",
      "| 2.0|  1.0|76.0|30.0|6000.0|\n",
      "| 1.0|  2.0|70.0|38.0|5400.0|\n",
      "+----+-----+----+----+------+\n",
      "only showing top 20 rows\n",
      "\n"
     ]
    }
   ],
   "source": [
    "# Creating a Dataframe\n",
    "carrosDF = spSession.createDataFrame(carrosRDD3)\n",
    "carrosDF.show()"
   ]
  },
  {
   "cell_type": "code",
   "execution_count": 9,
   "metadata": {},
   "outputs": [],
   "source": [
    "# Summarizing the data and extracting the mean and standard deviation\n",
    "estats = carrosDF.describe().toPandas()\n",
    "medias = estats.iloc[1,1:5].values.tolist()\n",
    "desvios = estats.iloc[2,1:5].values.tolist()"
   ]
  },
  {
   "cell_type": "code",
   "execution_count": 10,
   "metadata": {},
   "outputs": [],
   "source": [
    "# Placing the mean and standard deviation and variances of the Broadcast type\n",
    "bc_media = sc.broadcast(medias)\n",
    "bc_desvio = sc.broadcast(desvios)"
   ]
  },
  {
   "cell_type": "code",
   "execution_count": 11,
   "metadata": {},
   "outputs": [],
   "source": [
    "# Function to centralize and scale the data. Each value will be subtracted from the mean then divided by the standard deviation\n",
    "def centerAndScale(inRow) :\n",
    "    global bc_media\n",
    "    global bc_desvio\n",
    "    \n",
    "    meanArray = bc_media.value\n",
    "    stdArray = bc_desvio.value\n",
    "\n",
    "    retArray = []\n",
    "    \n",
    "    for i in range(len(meanArray)):\n",
    "        retArray.append( (float(inRow[i]) - float(meanArray[i])) / float(stdArray[i]) )\n",
    "    return Vectors.dense(retArray)"
   ]
  },
  {
   "cell_type": "code",
   "execution_count": 12,
   "metadata": {},
   "outputs": [
    {
     "data": {
      "text/plain": [
       "[DenseVector([0.9337, -1.145, -0.9194, 0.9083]),\n",
       " DenseVector([0.9337, -1.145, -1.4773, 3.3936]),\n",
       " DenseVector([0.9337, -1.145, -0.9459, 0.753]),\n",
       " DenseVector([0.9337, -1.145, -1.1053, 1.5297]),\n",
       " DenseVector([0.9337, -1.145, -0.9459, 1.8403]),\n",
       " DenseVector([0.9337, -1.145, -1.1585, 1.9956]),\n",
       " DenseVector([-1.0656, -1.145, -0.9194, 0.9083]),\n",
       " DenseVector([0.9337, -1.145, -0.9459, 1.8403]),\n",
       " DenseVector([0.9337, -1.145, -0.9459, 1.8403]),\n",
       " DenseVector([0.9337, -1.145, -0.9459, 0.9083]),\n",
       " DenseVector([0.9337, -1.145, -0.9459, 0.9083]),\n",
       " DenseVector([0.9337, 0.869, -0.9459, 0.9083]),\n",
       " DenseVector([0.9337, 0.869, -0.9459, 0.9083]),\n",
       " DenseVector([0.9337, -1.145, -0.8928, 1.9956]),\n",
       " DenseVector([0.9337, -1.145, -1.1053, 0.9083]),\n",
       " DenseVector([0.9337, -1.145, -0.9459, 0.9083]),\n",
       " DenseVector([0.9337, -1.145, -1.2116, 3.7043]),\n",
       " DenseVector([0.9337, 0.869, -1.1053, 0.9083]),\n",
       " DenseVector([0.9337, -1.145, -0.7334, 0.753]),\n",
       " DenseVector([-1.0656, 0.869, -0.8928, 1.9956]),\n",
       " DenseVector([-1.0656, -1.145, -0.9194, 0.9083]),\n",
       " DenseVector([0.9337, -1.145, -0.9459, 0.9083]),\n",
       " DenseVector([-1.0656, 0.869, -0.9459, 0.9083]),\n",
       " DenseVector([-1.0656, 0.869, -0.9459, 0.9083]),\n",
       " DenseVector([-1.0656, 0.869, -0.9459, 0.9083]),\n",
       " DenseVector([-1.0656, 0.869, -0.6802, -0.179]),\n",
       " DenseVector([0.9337, -1.145, -0.9459, 0.9083]),\n",
       " DenseVector([-1.0656, 0.869, -0.9194, 0.9083]),\n",
       " DenseVector([0.9337, -1.145, -0.7334, 0.9083]),\n",
       " DenseVector([0.9337, 0.869, -1.1053, 0.9083]),\n",
       " DenseVector([-1.0656, 0.869, -0.8928, 0.753]),\n",
       " DenseVector([-1.0656, 0.869, -0.4146, -0.0237]),\n",
       " DenseVector([0.9337, -1.145, -0.8131, 0.1317]),\n",
       " DenseVector([-1.0656, -1.145, -1.2913, 3.083]),\n",
       " DenseVector([-1.0656, 0.869, -0.574, 1.0637]),\n",
       " DenseVector([0.9337, -1.145, -0.7334, 0.753]),\n",
       " DenseVector([0.9337, 0.869, -0.8928, 0.753]),\n",
       " DenseVector([-1.0656, 0.869, -0.7334, 0.753]),\n",
       " DenseVector([0.9337, 0.869, -0.7334, 0.753]),\n",
       " DenseVector([-1.0656, -1.145, -0.9194, 0.9083]),\n",
       " DenseVector([0.9337, 0.869, -0.9194, 0.9083]),\n",
       " DenseVector([-1.0656, 0.869, -0.9459, 0.9083]),\n",
       " DenseVector([0.9337, 0.869, -0.574, 0.4423]),\n",
       " DenseVector([-1.0656, 0.869, -0.9194, 0.9083]),\n",
       " DenseVector([0.9337, -1.145, -0.8131, 0.1317]),\n",
       " DenseVector([-1.0656, 0.869, -0.9459, 0.9083]),\n",
       " DenseVector([-1.0656, 0.869, -0.9459, 0.9083]),\n",
       " DenseVector([0.9337, -1.145, -0.0426, -0.179]),\n",
       " DenseVector([-1.0656, 0.869, -0.8928, 1.9956]),\n",
       " DenseVector([-1.0656, 0.869, -0.574, 0.4423]),\n",
       " DenseVector([-1.0656, -1.145, -1.371, 1.8403]),\n",
       " DenseVector([0.9337, 0.869, -1.2647, 1.9956]),\n",
       " DenseVector([0.9337, -1.145, -0.9194, 0.9083]),\n",
       " DenseVector([0.9337, -1.145, -0.4677, 0.287]),\n",
       " DenseVector([0.9337, 0.869, -1.1053, 0.287]),\n",
       " DenseVector([-1.0656, 0.869, -1.2647, 1.3743]),\n",
       " DenseVector([0.9337, -1.145, -0.0426, -0.179]),\n",
       " DenseVector([0.9337, -1.145, -0.0426, -0.179]),\n",
       " DenseVector([-1.0656, -1.145, -0.4943, 0.287]),\n",
       " DenseVector([-1.0656, 0.869, -1.371, 1.8403]),\n",
       " DenseVector([0.9337, 0.869, -0.9194, 0.9083]),\n",
       " DenseVector([0.9337, 0.869, -0.574, -0.3343]),\n",
       " DenseVector([-1.0656, -1.145, -0.8928, 0.5977]),\n",
       " DenseVector([-1.0656, 0.869, -0.4146, -0.0237]),\n",
       " DenseVector([-1.0656, 0.869, -0.4943, 0.287]),\n",
       " DenseVector([0.9337, -1.145, -0.8928, 0.5977]),\n",
       " DenseVector([0.9337, -1.145, -0.9194, 0.9083]),\n",
       " DenseVector([0.9337, 0.869, -0.8928, 0.4423]),\n",
       " DenseVector([0.9337, -1.145, 0.3293, -0.179]),\n",
       " DenseVector([-1.0656, 0.869, -0.5208, 0.1317]),\n",
       " DenseVector([-1.0656, 0.869, -0.4943, 0.287]),\n",
       " DenseVector([0.9337, -1.145, -0.4146, -0.0237]),\n",
       " DenseVector([0.9337, 0.869, -1.1053, 0.287]),\n",
       " DenseVector([-1.0656, 0.869, -0.4677, 0.287]),\n",
       " DenseVector([0.9337, -1.145, -0.5208, 0.1317]),\n",
       " DenseVector([0.9337, 0.869, -0.4146, -0.179]),\n",
       " DenseVector([0.9337, 0.869, -0.4146, -0.179]),\n",
       " DenseVector([-1.0656, 0.869, -0.3083, 0.5977]),\n",
       " DenseVector([0.9337, 0.869, -0.1755, 0.287]),\n",
       " DenseVector([0.9337, -1.145, -0.4677, 0.287]),\n",
       " DenseVector([-1.0656, 0.869, -0.574, -0.179]),\n",
       " DenseVector([-1.0656, 0.869, -0.8928, 0.4423]),\n",
       " DenseVector([-1.0656, 0.869, 0.3293, -0.3343]),\n",
       " DenseVector([-1.0656, 0.869, 0.3293, -0.3343]),\n",
       " DenseVector([-1.0656, -1.145, 0.2231, 0.1317]),\n",
       " DenseVector([-1.0656, 0.869, -0.9459, 1.8403]),\n",
       " DenseVector([0.9337, -1.145, 0.2231, 0.1317]),\n",
       " DenseVector([-1.0656, 0.869, -0.1755, 0.287]),\n",
       " DenseVector([0.9337, -1.145, 0.3293, -0.179]),\n",
       " DenseVector([0.9337, -1.145, 0.3293, -0.3343]),\n",
       " DenseVector([-1.0656, 0.869, -0.2552, 0.1317]),\n",
       " DenseVector([0.9337, -1.145, -0.3614, -0.179]),\n",
       " DenseVector([0.9337, 0.869, -0.3083, 0.287]),\n",
       " DenseVector([0.9337, -1.145, 0.3293, -0.179]),\n",
       " DenseVector([-1.0656, 0.869, -0.0958, 0.1317]),\n",
       " DenseVector([0.9337, 0.869, -0.2552, -0.0237]),\n",
       " DenseVector([-1.0656, 0.869, -0.5208, 0.1317]),\n",
       " DenseVector([-1.0656, 0.869, -0.4677, 0.287]),\n",
       " DenseVector([-1.0656, -1.145, -0.0958, -0.0237]),\n",
       " DenseVector([0.9337, -1.145, -0.5208, 0.1317]),\n",
       " DenseVector([-1.0656, 0.869, -0.8131, 0.753]),\n",
       " DenseVector([-1.0656, 0.869, -0.3083, 0.287]),\n",
       " DenseVector([0.9337, -1.145, -0.0692, -1.2663]),\n",
       " DenseVector([0.9337, -1.145, -0.3614, -0.179]),\n",
       " DenseVector([0.9337, -1.145, 0.3293, -0.179]),\n",
       " DenseVector([0.9337, 0.869, -0.5208, 0.1317]),\n",
       " DenseVector([0.9337, 0.869, -0.3083, 0.287]),\n",
       " DenseVector([-1.0656, 0.869, 0.1965, -0.179]),\n",
       " DenseVector([0.9337, -1.145, 0.3293, -0.179]),\n",
       " DenseVector([0.9337, -1.145, -0.3614, -0.179]),\n",
       " DenseVector([0.9337, 0.869, 0.1965, -0.3343]),\n",
       " DenseVector([0.9337, -1.145, -0.0692, -1.2663]),\n",
       " DenseVector([0.9337, -1.145, 0.1699, -0.645]),\n",
       " DenseVector([-1.0656, 0.869, -0.1755, -0.9556]),\n",
       " DenseVector([-1.0656, 0.869, 0.1699, -0.645]),\n",
       " DenseVector([0.9337, 0.869, -0.4146, -0.0237]),\n",
       " DenseVector([0.9337, 0.869, -0.1755, -0.9556]),\n",
       " DenseVector([0.9337, -1.145, 1.0998, -0.9556]),\n",
       " DenseVector([0.9337, -1.145, 1.0998, -0.9556]),\n",
       " DenseVector([-1.0656, 0.869, 0.2762, -0.3343]),\n",
       " DenseVector([-1.0656, 0.869, -0.0692, -0.179]),\n",
       " DenseVector([0.9337, -1.145, 1.0998, -0.9556]),\n",
       " DenseVector([-1.0656, 0.869, -0.2286, 0.4423]),\n",
       " DenseVector([-1.0656, 0.869, 0.1699, -0.9556]),\n",
       " DenseVector([0.9337, 0.869, 0.2762, -0.3343]),\n",
       " DenseVector([0.9337, -1.145, 0.1965, -0.645]),\n",
       " DenseVector([-1.0656, 0.869, 1.2858, -1.2663]),\n",
       " DenseVector([-1.0656, 0.869, 1.2858, -0.9556]),\n",
       " DenseVector([0.9337, -1.145, -0.0692, -1.2663]),\n",
       " DenseVector([-1.0656, 0.869, -0.9459, 1.219]),\n",
       " DenseVector([0.9337, 0.869, -0.2286, -0.0237]),\n",
       " DenseVector([-1.0656, 0.869, -0.0426, -0.179]),\n",
       " DenseVector([0.9337, 0.869, 1.2858, -1.2663]),\n",
       " DenseVector([0.9337, -1.145, 1.0998, -0.9556]),\n",
       " DenseVector([0.9337, -1.145, 1.0998, -0.9556]),\n",
       " DenseVector([0.9337, -1.145, 0.1699, -0.645]),\n",
       " DenseVector([-1.0656, -1.145, 0.1699, -0.9556]),\n",
       " DenseVector([-1.0656, 0.869, 0.1699, -0.645]),\n",
       " DenseVector([-1.0656, 0.869, -0.2286, -0.9556]),\n",
       " DenseVector([0.9337, -1.145, 0.8341, -1.4216]),\n",
       " DenseVector([-1.0656, 0.869, 1.3921, -0.8003]),\n",
       " DenseVector([0.9337, 0.869, 1.3921, -0.9556]),\n",
       " DenseVector([-1.0656, 0.869, 0.2762, -0.179]),\n",
       " DenseVector([0.9337, -1.145, 1.5249, -0.9556]),\n",
       " DenseVector([-1.0656, -1.145, -0.0692, -0.3343]),\n",
       " DenseVector([0.9337, -1.145, 0.1965, -0.645]),\n",
       " DenseVector([0.9337, -1.145, 1.3389, -0.9556]),\n",
       " DenseVector([0.9337, -1.145, 1.8969, -0.9556]),\n",
       " DenseVector([0.9337, 0.869, 0.2762, -0.179]),\n",
       " DenseVector([0.9337, -1.145, 1.5249, -0.8003]),\n",
       " DenseVector([-1.0656, 0.869, -0.1755, -0.9556]),\n",
       " DenseVector([0.9337, 0.869, -0.2286, -0.9556]),\n",
       " DenseVector([-1.0656, 0.869, 0.2762, -0.3343]),\n",
       " DenseVector([-1.0656, 0.869, -0.2286, 0.4423]),\n",
       " DenseVector([-1.0656, 0.869, -0.0692, -0.3343]),\n",
       " DenseVector([0.9337, 0.869, -0.2286, -0.0237]),\n",
       " DenseVector([0.9337, -1.145, 1.4983, -0.9556]),\n",
       " DenseVector([-1.0656, 0.869, 0.3028, -1.111]),\n",
       " DenseVector([0.9337, -1.145, 0.3293, -0.179]),\n",
       " DenseVector([-1.0656, 0.869, 0.1699, -0.9556]),\n",
       " DenseVector([-1.0656, 0.869, -0.2286, 0.4423]),\n",
       " DenseVector([-1.0656, 0.869, 1.0201, -1.111]),\n",
       " DenseVector([0.9337, -1.145, 1.4983, -0.9556]),\n",
       " DenseVector([-1.0656, 0.869, 0.4356, -0.9556]),\n",
       " DenseVector([-1.0656, 0.869, -0.8397, 0.9083]),\n",
       " DenseVector([0.9337, -1.145, 1.4983, -0.9556]),\n",
       " DenseVector([-1.0656, 0.869, 1.5515, -1.2663]),\n",
       " DenseVector([-1.0656, 0.869, 1.4983, -0.9556]),\n",
       " DenseVector([0.9337, 0.869, 0.1699, -0.9556]),\n",
       " DenseVector([0.9337, 0.869, 1.5515, -1.2663]),\n",
       " DenseVector([-1.0656, 0.869, 1.4983, -0.9556]),\n",
       " DenseVector([0.9337, -1.145, 2.5611, -1.2663]),\n",
       " DenseVector([-1.0656, -1.145, 0.4622, -0.645]),\n",
       " DenseVector([-1.0656, 0.869, 0.4622, -0.645]),\n",
       " DenseVector([-1.0656, 0.869, 0.8076, -1.111]),\n",
       " DenseVector([0.9337, -1.145, 1.0467, -0.9556]),\n",
       " DenseVector([-1.0656, 0.869, 0.0637, 0.1317]),\n",
       " DenseVector([-1.0656, 0.869, 0.2762, -0.9556]),\n",
       " DenseVector([-1.0656, 0.869, 0.967, -1.2663]),\n",
       " DenseVector([-1.0656, 0.869, 0.4622, -0.8003]),\n",
       " DenseVector([-1.0656, 0.869, 0.5153, -0.4896]),\n",
       " DenseVector([0.9337, -1.145, 0.5153, -0.4896]),\n",
       " DenseVector([0.9337, 0.869, 0.5153, -0.4896]),\n",
       " DenseVector([-1.0656, 0.869, 2.0828, -1.4216]),\n",
       " DenseVector([-1.0656, 0.869, 0.5153, -0.4896]),\n",
       " DenseVector([-1.0656, 0.869, 1.9234, -1.577]),\n",
       " DenseVector([0.9337, -1.145, 2.747, -1.2663]),\n",
       " DenseVector([0.9337, -1.145, 2.747, -1.2663]),\n",
       " DenseVector([-1.0656, 0.869, 1.3655, -1.4216]),\n",
       " DenseVector([0.9337, -1.145, 1.3655, -1.4216]),\n",
       " DenseVector([-1.0656, 0.869, 1.9234, -1.577]),\n",
       " DenseVector([-1.0656, -1.145, 4.2083, -1.8876]),\n",
       " DenseVector([-1.0656, 0.869, 2.0828, -1.577]),\n",
       " DenseVector([0.9337, -1.145, 2.747, -1.2663]),\n",
       " DenseVector([-1.0656, 0.869, 2.136, -1.7323]),\n",
       " DenseVector([-1.0656, -1.145, 2.0828, -1.4216]),\n",
       " DenseVector([0.9337, -1.145, 2.136, -1.7323])]"
      ]
     },
     "execution_count": 12,
     "metadata": {},
     "output_type": "execute_result"
    }
   ],
   "source": [
    "carrosRDD4 = carrosDF.rdd.map(centerAndScale)\n",
    "carrosRDD4.collect()"
   ]
  },
  {
   "cell_type": "code",
   "execution_count": 13,
   "metadata": {},
   "outputs": [
    {
     "name": "stdout",
     "output_type": "stream",
     "text": [
      "+--------------------+\n",
      "|            features|\n",
      "+--------------------+\n",
      "|[0.93367168148051...|\n",
      "|[0.93367168148051...|\n",
      "|[0.93367168148051...|\n",
      "|[0.93367168148051...|\n",
      "|[0.93367168148051...|\n",
      "|[0.93367168148051...|\n",
      "|[-1.0656035495158...|\n",
      "|[0.93367168148051...|\n",
      "|[0.93367168148051...|\n",
      "|[0.93367168148051...|\n",
      "+--------------------+\n",
      "only showing top 10 rows\n",
      "\n"
     ]
    }
   ],
   "source": [
    "# Creating Dataframe\n",
    "carrosRDD5 = carrosRDD4.map( lambda f:Row(features = f))\n",
    "carrosDF = spSession.createDataFrame(carrosRDD5)\n",
    "carrosDF.select(\"features\").show(10)"
   ]
  },
  {
   "cell_type": "code",
   "execution_count": 14,
   "metadata": {},
   "outputs": [],
   "source": [
    "# Creating the model\n",
    "kmeans = KMeans(k = 3, seed = 1)\n",
    "modelo = kmeans.fit(carrosDF)"
   ]
  },
  {
   "cell_type": "code",
   "execution_count": 15,
   "metadata": {},
   "outputs": [
    {
     "name": "stdout",
     "output_type": "stream",
     "text": [
      "+--------------------+----------+\n",
      "|            features|prediction|\n",
      "+--------------------+----------+\n",
      "|[0.93367168148051...|         2|\n",
      "|[0.93367168148051...|         2|\n",
      "|[0.93367168148051...|         2|\n",
      "|[0.93367168148051...|         2|\n",
      "|[0.93367168148051...|         2|\n",
      "|[0.93367168148051...|         2|\n",
      "|[-1.0656035495158...|         2|\n",
      "|[0.93367168148051...|         2|\n",
      "|[0.93367168148051...|         2|\n",
      "|[0.93367168148051...|         2|\n",
      "|[0.93367168148051...|         2|\n",
      "|[0.93367168148051...|         1|\n",
      "|[0.93367168148051...|         1|\n",
      "|[0.93367168148051...|         2|\n",
      "|[0.93367168148051...|         2|\n",
      "|[0.93367168148051...|         2|\n",
      "|[0.93367168148051...|         2|\n",
      "|[0.93367168148051...|         1|\n",
      "|[0.93367168148051...|         2|\n",
      "|[-1.0656035495158...|         1|\n",
      "+--------------------+----------+\n",
      "only showing top 20 rows\n",
      "\n"
     ]
    }
   ],
   "source": [
    "# Predictions\n",
    "previsoes = modelo.transform(carrosDF)\n",
    "previsoes.show()"
   ]
  },
  {
   "cell_type": "code",
   "execution_count": 16,
   "metadata": {},
   "outputs": [],
   "source": [
    "def unstripData(instr) :\n",
    "    return (instr[\"prediction\"], instr[\"features\"][0], instr[\"features\"][1], instr[\"features\"][2], instr[\"features\"][3])"
   ]
  },
  {
   "cell_type": "code",
   "execution_count": 17,
   "metadata": {},
   "outputs": [],
   "source": [
    "carrosRDD6 = previsoes.rdd.map(unstripData)\n",
    "predList = carrosRDD6.collect()\n",
    "predPd = pd.DataFrame(predList)"
   ]
  },
  {
   "cell_type": "code",
   "execution_count": 18,
   "metadata": {},
   "outputs": [
    {
     "data": {
      "text/html": [
       "<div>\n",
       "<style scoped>\n",
       "    .dataframe tbody tr th:only-of-type {\n",
       "        vertical-align: middle;\n",
       "    }\n",
       "\n",
       "    .dataframe tbody tr th {\n",
       "        vertical-align: top;\n",
       "    }\n",
       "\n",
       "    .dataframe thead th {\n",
       "        text-align: right;\n",
       "    }\n",
       "</style>\n",
       "<table border=\"1\" class=\"dataframe\">\n",
       "  <thead>\n",
       "    <tr style=\"text-align: right;\">\n",
       "      <th></th>\n",
       "      <th>0</th>\n",
       "      <th>1</th>\n",
       "      <th>2</th>\n",
       "      <th>3</th>\n",
       "      <th>4</th>\n",
       "    </tr>\n",
       "  </thead>\n",
       "  <tbody>\n",
       "    <tr>\n",
       "      <th>0</th>\n",
       "      <td>2</td>\n",
       "      <td>0.933672</td>\n",
       "      <td>-1.144971</td>\n",
       "      <td>-0.919362</td>\n",
       "      <td>0.908332</td>\n",
       "    </tr>\n",
       "    <tr>\n",
       "      <th>1</th>\n",
       "      <td>2</td>\n",
       "      <td>0.933672</td>\n",
       "      <td>-1.144971</td>\n",
       "      <td>-1.477291</td>\n",
       "      <td>3.393629</td>\n",
       "    </tr>\n",
       "    <tr>\n",
       "      <th>2</th>\n",
       "      <td>2</td>\n",
       "      <td>0.933672</td>\n",
       "      <td>-1.144971</td>\n",
       "      <td>-0.945930</td>\n",
       "      <td>0.753001</td>\n",
       "    </tr>\n",
       "    <tr>\n",
       "      <th>3</th>\n",
       "      <td>2</td>\n",
       "      <td>0.933672</td>\n",
       "      <td>-1.144971</td>\n",
       "      <td>-1.105338</td>\n",
       "      <td>1.529656</td>\n",
       "    </tr>\n",
       "    <tr>\n",
       "      <th>4</th>\n",
       "      <td>2</td>\n",
       "      <td>0.933672</td>\n",
       "      <td>-1.144971</td>\n",
       "      <td>-0.945930</td>\n",
       "      <td>1.840318</td>\n",
       "    </tr>\n",
       "  </tbody>\n",
       "</table>\n",
       "</div>"
      ],
      "text/plain": [
       "   0         1         2         3         4\n",
       "0  2  0.933672 -1.144971 -0.919362  0.908332\n",
       "1  2  0.933672 -1.144971 -1.477291  3.393629\n",
       "2  2  0.933672 -1.144971 -0.945930  0.753001\n",
       "3  2  0.933672 -1.144971 -1.105338  1.529656\n",
       "4  2  0.933672 -1.144971 -0.945930  1.840318"
      ]
     },
     "execution_count": 18,
     "metadata": {},
     "output_type": "execute_result"
    }
   ],
   "source": [
    "predPd.head()"
   ]
  },
  {
   "cell_type": "code",
   "execution_count": 19,
   "metadata": {},
   "outputs": [
    {
     "data": {
      "text/plain": [
       "<matplotlib.collections.PathCollection at 0x7f4aa132e0f0>"
      ]
     },
     "execution_count": 19,
     "metadata": {},
     "output_type": "execute_result"
    },
    {
     "data": {
      "image/png": "[encoded data removed]",
      "text/plain": [
       "<Figure size 432x288 with 1 Axes>"
      ]
     },
     "metadata": {},
     "output_type": "display_data"
    }
   ],
   "source": [
    "# Graph with the results of the created clusters\n",
    "plt.cla()\n",
    "plt.scatter(predPd[3], predPd[4], c=predPd[0])"
   ]
  },
  {
   "cell_type": "code",
   "execution_count": null,
   "metadata": {},
   "outputs": [],
   "source": []
  }
 ],
 "metadata": {
  "kernelspec": {
   "display_name": "Python 3",
   "language": "python",
   "name": "python3"
  },
  "language_info": {
   "codemirror_mode": {
    "name": "ipython",
    "version": 3
   },
   "file_extension": ".py",
   "mimetype": "text/x-python",
   "name": "python",
   "nbconvert_exporter": "python",
   "pygments_lexer": "ipython3",
   "version": "3.6.5"
  }
 },
 "nbformat": 4,
 "nbformat_minor": 2
}
